{
 "metadata": {
  "name": ""
 },
 "nbformat": 3,
 "nbformat_minor": 0,
 "worksheets": [
  {
   "cells": [
    {
     "cell_type": "code",
     "collapsed": false,
     "input": [
      "%pylab inline"
     ],
     "language": "python",
     "metadata": {},
     "outputs": [
      {
       "output_type": "stream",
       "stream": "stdout",
       "text": [
        "Populating the interactive namespace from numpy and matplotlib\n"
       ]
      }
     ],
     "prompt_number": 1
    },
    {
     "cell_type": "code",
     "collapsed": false,
     "input": [
      "from hmf import Perturbations"
     ],
     "language": "python",
     "metadata": {},
     "outputs": [],
     "prompt_number": 2
    },
    {
     "cell_type": "code",
     "collapsed": false,
     "input": [
      "def get_track(log_abundance=-5.0):\n",
      "    M = arange(8.0,13.0,0.01)\n",
      "    z_list = arange(6.0,20.4,0.5)\n",
      "    n_z = size(z_list)\n",
      "    mass_track = empty((0))\n",
      "    delta_track = empty((0))\n",
      "    for z in z_list:\n",
      "       pert = Perturbations(M,z=z)\n",
      "       mass_func_tmp = pert.dndlnm\n",
      "       delta= abs(log10(mass_func_tmp)-log_abundance)\n",
      "       i_min = argmin(delta)\n",
      "       mass_track = append(mass_track, M[i_min])\n",
      "       delta_track = append(delta_track, delta[i_min])\n",
      "    return z_list, mass_track, delta_track"
     ],
     "language": "python",
     "metadata": {},
     "outputs": [],
     "prompt_number": 3
    },
    {
     "cell_type": "code",
     "collapsed": false,
     "input": [
      "abundances = arange(-6.0,-2.9,0.1)\n",
      "print abundances\n",
      "for log_ab in abundances:\n",
      "    filename= \"../data/mass_track_abundance%.1f.dat\"%(log_ab)\n",
      "    z_track, m_track, diff_track  = get_track(log_abundance=log_ab)\n",
      "    out = open(filename, \"w\")\n",
      "    for z, m, d in zip(z_track, m_track, diff_track):\n",
      "        out.write(\"%f %f %f\\n\"%(z,m,d))\n",
      "    out.close()\n",
      "    print filename"
     ],
     "language": "python",
     "metadata": {},
     "outputs": [
      {
       "output_type": "stream",
       "stream": "stdout",
       "text": [
        "[-6.  -5.9 -5.8 -5.7 -5.6 -5.5 -5.4 -5.3 -5.2 -5.1 -5.  -4.9 -4.8 -4.7 -4.6\n",
        " -4.5 -4.4 -4.3 -4.2 -4.1 -4.  -3.9 -3.8 -3.7 -3.6 -3.5 -3.4 -3.3 -3.2 -3.1\n",
        " -3. ]\n",
        "../data/mass_track_abundance-6.0.dat\n",
        "../data/mass_track_abundance-5.9.dat\n",
        "../data/mass_track_abundance-5.8.dat\n",
        "../data/mass_track_abundance-5.7.dat\n",
        "../data/mass_track_abundance-5.6.dat\n",
        "../data/mass_track_abundance-5.5.dat\n",
        "../data/mass_track_abundance-5.4.dat\n",
        "../data/mass_track_abundance-5.3.dat\n",
        "../data/mass_track_abundance-5.2.dat\n",
        "../data/mass_track_abundance-5.1.dat\n",
        "../data/mass_track_abundance-5.0.dat\n",
        "../data/mass_track_abundance-4.9.dat\n",
        "../data/mass_track_abundance-4.8.dat\n",
        "../data/mass_track_abundance-4.7.dat\n",
        "../data/mass_track_abundance-4.6.dat\n",
        "../data/mass_track_abundance-4.5.dat\n",
        "../data/mass_track_abundance-4.4.dat\n",
        "../data/mass_track_abundance-4.3.dat\n",
        "../data/mass_track_abundance-4.2.dat\n",
        "../data/mass_track_abundance-4.1.dat\n",
        "../data/mass_track_abundance-4.0.dat\n",
        "../data/mass_track_abundance-3.9.dat\n",
        "../data/mass_track_abundance-3.8.dat\n",
        "../data/mass_track_abundance-3.7.dat\n",
        "../data/mass_track_abundance-3.6.dat\n",
        "../data/mass_track_abundance-3.5.dat\n",
        "../data/mass_track_abundance-3.4.dat\n",
        "../data/mass_track_abundance-3.3.dat\n",
        "../data/mass_track_abundance-3.2.dat\n",
        "../data/mass_track_abundance-3.1.dat\n",
        "../data/mass_track_abundance-3.0.dat\n"
       ]
      }
     ],
     "prompt_number": 95
    }
   ],
   "metadata": {}
  }
 ]
}